{
  "cells": [
    {
      "cell_type": "code",
      "execution_count": 28,
      "metadata": {
        "colab": {
          "base_uri": "https://localhost:8080/",
          "height": 800
        },
        "id": "PHC6HUu-2Eip",
        "outputId": "d41a90c7-584d-40c0-9e74-399007a18243"
      },
      "outputs": [
        {
          "data": {
            "text/html": [
              "<div>\n",
              "<style scoped>\n",
              "    .dataframe tbody tr th:only-of-type {\n",
              "        vertical-align: middle;\n",
              "    }\n",
              "\n",
              "    .dataframe tbody tr th {\n",
              "        vertical-align: top;\n",
              "    }\n",
              "\n",
              "    .dataframe thead th {\n",
              "        text-align: right;\n",
              "    }\n",
              "</style>\n",
              "<table border=\"1\" class=\"dataframe\">\n",
              "  <thead>\n",
              "    <tr style=\"text-align: right;\">\n",
              "      <th></th>\n",
              "      <th>Patient_ID</th>\n",
              "      <th>Month_of_Birth</th>\n",
              "      <th>Age</th>\n",
              "      <th>Sex</th>\n",
              "      <th>Occupation</th>\n",
              "      <th>T_Stage</th>\n",
              "      <th>N_Stage</th>\n",
              "      <th>6th_Stage</th>\n",
              "      <th>Differentiated</th>\n",
              "      <th>Grade</th>\n",
              "      <th>A_Stage</th>\n",
              "      <th>Tumor_Size</th>\n",
              "      <th>Estrogen_Status</th>\n",
              "      <th>Progesterone_Status</th>\n",
              "      <th>Regional_Node_Examined</th>\n",
              "      <th>Reginol_Node_Positive</th>\n",
              "      <th>Survival_Months</th>\n",
              "      <th>Mortality_Status</th>\n",
              "    </tr>\n",
              "  </thead>\n",
              "  <tbody>\n",
              "    <tr>\n",
              "      <th>0</th>\n",
              "      <td>A0012</td>\n",
              "      <td>12</td>\n",
              "      <td>68.0</td>\n",
              "      <td>Female</td>\n",
              "      <td>Teaching</td>\n",
              "      <td>T1</td>\n",
              "      <td>N1</td>\n",
              "      <td>IIA</td>\n",
              "      <td>Poorly differentiated</td>\n",
              "      <td>3</td>\n",
              "      <td>Regional</td>\n",
              "      <td>4.0</td>\n",
              "      <td>Positive</td>\n",
              "      <td>Positive</td>\n",
              "      <td>24.0</td>\n",
              "      <td>1</td>\n",
              "      <td>60</td>\n",
              "      <td>Alive</td>\n",
              "    </tr>\n",
              "    <tr>\n",
              "      <th>1</th>\n",
              "      <td>A0013</td>\n",
              "      <td>12</td>\n",
              "      <td>50.0</td>\n",
              "      <td>Female</td>\n",
              "      <td>Medical</td>\n",
              "      <td>T2</td>\n",
              "      <td>N2</td>\n",
              "      <td>IIIA</td>\n",
              "      <td>Moderately differentiated</td>\n",
              "      <td>2</td>\n",
              "      <td>Regional</td>\n",
              "      <td>35.0</td>\n",
              "      <td>Positive</td>\n",
              "      <td>Positive</td>\n",
              "      <td>14.0</td>\n",
              "      <td>5</td>\n",
              "      <td>62</td>\n",
              "      <td>Alive</td>\n",
              "    </tr>\n",
              "    <tr>\n",
              "      <th>2</th>\n",
              "      <td>A0014</td>\n",
              "      <td>11</td>\n",
              "      <td>58.0</td>\n",
              "      <td>Female</td>\n",
              "      <td>Engineering</td>\n",
              "      <td>T3</td>\n",
              "      <td>N3</td>\n",
              "      <td>IIIC</td>\n",
              "      <td>Moderately differentiated</td>\n",
              "      <td>2</td>\n",
              "      <td>Regional</td>\n",
              "      <td>63.0</td>\n",
              "      <td>Positive</td>\n",
              "      <td>Positive</td>\n",
              "      <td>14.0</td>\n",
              "      <td>7</td>\n",
              "      <td>75</td>\n",
              "      <td>Alive</td>\n",
              "    </tr>\n",
              "    <tr>\n",
              "      <th>3</th>\n",
              "      <td>A0015</td>\n",
              "      <td>3</td>\n",
              "      <td>58.0</td>\n",
              "      <td>Female</td>\n",
              "      <td>Technology</td>\n",
              "      <td>T1</td>\n",
              "      <td>N1</td>\n",
              "      <td>IIA</td>\n",
              "      <td>Poorly differentiated</td>\n",
              "      <td>3</td>\n",
              "      <td>Regional</td>\n",
              "      <td>18.0</td>\n",
              "      <td>Positive</td>\n",
              "      <td>Positive</td>\n",
              "      <td>2.0</td>\n",
              "      <td>1</td>\n",
              "      <td>84</td>\n",
              "      <td>Alive</td>\n",
              "    </tr>\n",
              "    <tr>\n",
              "      <th>4</th>\n",
              "      <td>A0016</td>\n",
              "      <td>1</td>\n",
              "      <td>47.0</td>\n",
              "      <td>Female</td>\n",
              "      <td>Multimedia</td>\n",
              "      <td>T2</td>\n",
              "      <td>N1</td>\n",
              "      <td>IIB</td>\n",
              "      <td>Poorly differentiated</td>\n",
              "      <td>3</td>\n",
              "      <td>Regional</td>\n",
              "      <td>41.0</td>\n",
              "      <td>Positive</td>\n",
              "      <td>Positive</td>\n",
              "      <td>3.0</td>\n",
              "      <td>1</td>\n",
              "      <td>50</td>\n",
              "      <td>Alive</td>\n",
              "    </tr>\n",
              "    <tr>\n",
              "      <th>5</th>\n",
              "      <td>A0017</td>\n",
              "      <td>2</td>\n",
              "      <td>51.0</td>\n",
              "      <td>Female</td>\n",
              "      <td>Research</td>\n",
              "      <td>T1</td>\n",
              "      <td>N1</td>\n",
              "      <td>IIA</td>\n",
              "      <td>Moderately differentiated</td>\n",
              "      <td>2</td>\n",
              "      <td>Regional</td>\n",
              "      <td>20.0</td>\n",
              "      <td>Positive</td>\n",
              "      <td>Positive</td>\n",
              "      <td>18.0</td>\n",
              "      <td>2</td>\n",
              "      <td>89</td>\n",
              "      <td>Alive</td>\n",
              "    </tr>\n",
              "    <tr>\n",
              "      <th>6</th>\n",
              "      <td>A0018</td>\n",
              "      <td>5</td>\n",
              "      <td>51.0</td>\n",
              "      <td>Female</td>\n",
              "      <td>House Person</td>\n",
              "      <td>T1</td>\n",
              "      <td>N1</td>\n",
              "      <td>IIA</td>\n",
              "      <td>Well differentiated</td>\n",
              "      <td>1</td>\n",
              "      <td>Regional</td>\n",
              "      <td>8.0</td>\n",
              "      <td>Positive</td>\n",
              "      <td>Positive</td>\n",
              "      <td>11.0</td>\n",
              "      <td>1</td>\n",
              "      <td>54</td>\n",
              "      <td>Alive</td>\n",
              "    </tr>\n",
              "    <tr>\n",
              "      <th>7</th>\n",
              "      <td>A0019</td>\n",
              "      <td>4</td>\n",
              "      <td>40.0</td>\n",
              "      <td>Female</td>\n",
              "      <td>Reporting</td>\n",
              "      <td>T2</td>\n",
              "      <td>N1</td>\n",
              "      <td>IIB</td>\n",
              "      <td>Moderately differentiated</td>\n",
              "      <td>2</td>\n",
              "      <td>Regional</td>\n",
              "      <td>30.0</td>\n",
              "      <td>Positive</td>\n",
              "      <td>Positive</td>\n",
              "      <td>9.0</td>\n",
              "      <td>1</td>\n",
              "      <td>14</td>\n",
              "      <td>Dead</td>\n",
              "    </tr>\n",
              "    <tr>\n",
              "      <th>8</th>\n",
              "      <td>A0020</td>\n",
              "      <td>6</td>\n",
              "      <td>40.0</td>\n",
              "      <td>Female</td>\n",
              "      <td>Development</td>\n",
              "      <td>T4</td>\n",
              "      <td>N3</td>\n",
              "      <td>IIIC</td>\n",
              "      <td>Poorly differentiated</td>\n",
              "      <td>3</td>\n",
              "      <td>Regional</td>\n",
              "      <td>103.0</td>\n",
              "      <td>Positive</td>\n",
              "      <td>Positive</td>\n",
              "      <td>20.0</td>\n",
              "      <td>18</td>\n",
              "      <td>70</td>\n",
              "      <td>Alive</td>\n",
              "    </tr>\n",
              "    <tr>\n",
              "      <th>9</th>\n",
              "      <td>A0021</td>\n",
              "      <td>4</td>\n",
              "      <td>69.0</td>\n",
              "      <td>Female</td>\n",
              "      <td>Construction</td>\n",
              "      <td>T4</td>\n",
              "      <td>N3</td>\n",
              "      <td>IIIC</td>\n",
              "      <td>Well differentiated</td>\n",
              "      <td>1</td>\n",
              "      <td>Distant</td>\n",
              "      <td>32.0</td>\n",
              "      <td>Positive</td>\n",
              "      <td>Positive</td>\n",
              "      <td>21.0</td>\n",
              "      <td>12</td>\n",
              "      <td>92</td>\n",
              "      <td>Alive</td>\n",
              "    </tr>\n",
              "    <tr>\n",
              "      <th>10</th>\n",
              "      <td>A0022</td>\n",
              "      <td>8</td>\n",
              "      <td>68.0</td>\n",
              "      <td>Female</td>\n",
              "      <td>Leisure</td>\n",
              "      <td>T1</td>\n",
              "      <td>N1</td>\n",
              "      <td>IIA</td>\n",
              "      <td>Moderately differentiated</td>\n",
              "      <td>2</td>\n",
              "      <td>Regional</td>\n",
              "      <td>13.0</td>\n",
              "      <td>Positive</td>\n",
              "      <td>Positive</td>\n",
              "      <td>9.0</td>\n",
              "      <td>1</td>\n",
              "      <td>64</td>\n",
              "      <td>Dead</td>\n",
              "    </tr>\n",
              "    <tr>\n",
              "      <th>11</th>\n",
              "      <td>A0023</td>\n",
              "      <td>6</td>\n",
              "      <td>46.0</td>\n",
              "      <td>Female</td>\n",
              "      <td>Scoial work</td>\n",
              "      <td>T3</td>\n",
              "      <td>N1</td>\n",
              "      <td>IIIA</td>\n",
              "      <td>Poorly differentiated</td>\n",
              "      <td>3</td>\n",
              "      <td>Regional</td>\n",
              "      <td>59.0</td>\n",
              "      <td>Negative</td>\n",
              "      <td>Negative</td>\n",
              "      <td>11.0</td>\n",
              "      <td>3</td>\n",
              "      <td>92</td>\n",
              "      <td>Alive</td>\n",
              "    </tr>\n",
              "    <tr>\n",
              "      <th>12</th>\n",
              "      <td>A0024</td>\n",
              "      <td>6</td>\n",
              "      <td>65.0</td>\n",
              "      <td>Female</td>\n",
              "      <td>Trading</td>\n",
              "      <td>T2</td>\n",
              "      <td>N1</td>\n",
              "      <td>IIB</td>\n",
              "      <td>Poorly differentiated</td>\n",
              "      <td>3</td>\n",
              "      <td>Regional</td>\n",
              "      <td>35.0</td>\n",
              "      <td>Positive</td>\n",
              "      <td>Positive</td>\n",
              "      <td>13.0</td>\n",
              "      <td>3</td>\n",
              "      <td>56</td>\n",
              "      <td>Alive</td>\n",
              "    </tr>\n",
              "    <tr>\n",
              "      <th>13</th>\n",
              "      <td>A0025</td>\n",
              "      <td>6</td>\n",
              "      <td>48.0</td>\n",
              "      <td>Female</td>\n",
              "      <td>Consultancy</td>\n",
              "      <td>T1</td>\n",
              "      <td>N2</td>\n",
              "      <td>IIIA</td>\n",
              "      <td>Poorly differentiated</td>\n",
              "      <td>3</td>\n",
              "      <td>Regional</td>\n",
              "      <td>15.0</td>\n",
              "      <td>Positive</td>\n",
              "      <td>Positive</td>\n",
              "      <td>23.0</td>\n",
              "      <td>7</td>\n",
              "      <td>38</td>\n",
              "      <td>Alive</td>\n",
              "    </tr>\n",
              "    <tr>\n",
              "      <th>14</th>\n",
              "      <td>A0026</td>\n",
              "      <td>4</td>\n",
              "      <td>62.0</td>\n",
              "      <td>Female</td>\n",
              "      <td>Driving</td>\n",
              "      <td>T2</td>\n",
              "      <td>N3</td>\n",
              "      <td>IIIC</td>\n",
              "      <td>Moderately differentiated</td>\n",
              "      <td>2</td>\n",
              "      <td>Regional</td>\n",
              "      <td>35.0</td>\n",
              "      <td>Positive</td>\n",
              "      <td>Positive</td>\n",
              "      <td>16.0</td>\n",
              "      <td>14</td>\n",
              "      <td>64</td>\n",
              "      <td>Alive</td>\n",
              "    </tr>\n",
              "  </tbody>\n",
              "</table>\n",
              "</div>"
            ],
            "text/plain": [
              "   Patient_ID  Month_of_Birth   Age     Sex    Occupation T_Stage N_Stage  \\\n",
              "0       A0012              12  68.0  Female      Teaching      T1      N1   \n",
              "1       A0013              12  50.0  Female       Medical      T2      N2   \n",
              "2       A0014              11  58.0  Female   Engineering      T3      N3   \n",
              "3       A0015               3  58.0  Female    Technology      T1      N1   \n",
              "4       A0016               1  47.0  Female    Multimedia      T2      N1   \n",
              "5       A0017               2  51.0  Female      Research      T1      N1   \n",
              "6       A0018               5  51.0  Female  House Person      T1      N1   \n",
              "7       A0019               4  40.0  Female     Reporting      T2      N1   \n",
              "8       A0020               6  40.0  Female   Development      T4      N3   \n",
              "9       A0021               4  69.0  Female  Construction      T4      N3   \n",
              "10      A0022               8  68.0  Female       Leisure      T1      N1   \n",
              "11      A0023               6  46.0  Female   Scoial work      T3      N1   \n",
              "12      A0024               6  65.0  Female       Trading      T2      N1   \n",
              "13      A0025               6  48.0  Female   Consultancy      T1      N2   \n",
              "14      A0026               4  62.0  Female       Driving      T2      N3   \n",
              "\n",
              "   6th_Stage             Differentiated  Grade   A_Stage  Tumor_Size  \\\n",
              "0        IIA      Poorly differentiated      3  Regional         4.0   \n",
              "1       IIIA  Moderately differentiated      2  Regional        35.0   \n",
              "2       IIIC  Moderately differentiated      2  Regional        63.0   \n",
              "3        IIA      Poorly differentiated      3  Regional        18.0   \n",
              "4        IIB      Poorly differentiated      3  Regional        41.0   \n",
              "5        IIA  Moderately differentiated      2  Regional        20.0   \n",
              "6        IIA        Well differentiated      1  Regional         8.0   \n",
              "7        IIB  Moderately differentiated      2  Regional        30.0   \n",
              "8       IIIC      Poorly differentiated      3  Regional       103.0   \n",
              "9       IIIC        Well differentiated      1   Distant        32.0   \n",
              "10       IIA  Moderately differentiated      2  Regional        13.0   \n",
              "11      IIIA      Poorly differentiated      3  Regional        59.0   \n",
              "12       IIB      Poorly differentiated      3  Regional        35.0   \n",
              "13      IIIA      Poorly differentiated      3  Regional        15.0   \n",
              "14      IIIC  Moderately differentiated      2  Regional        35.0   \n",
              "\n",
              "   Estrogen_Status Progesterone_Status  Regional_Node_Examined  \\\n",
              "0         Positive            Positive                    24.0   \n",
              "1         Positive            Positive                    14.0   \n",
              "2         Positive            Positive                    14.0   \n",
              "3         Positive            Positive                     2.0   \n",
              "4         Positive            Positive                     3.0   \n",
              "5         Positive            Positive                    18.0   \n",
              "6         Positive            Positive                    11.0   \n",
              "7         Positive            Positive                     9.0   \n",
              "8         Positive            Positive                    20.0   \n",
              "9         Positive            Positive                    21.0   \n",
              "10        Positive            Positive                     9.0   \n",
              "11        Negative            Negative                    11.0   \n",
              "12        Positive            Positive                    13.0   \n",
              "13        Positive            Positive                    23.0   \n",
              "14        Positive            Positive                    16.0   \n",
              "\n",
              "    Reginol_Node_Positive  Survival_Months Mortality_Status  \n",
              "0                       1               60            Alive  \n",
              "1                       5               62            Alive  \n",
              "2                       7               75            Alive  \n",
              "3                       1               84            Alive  \n",
              "4                       1               50            Alive  \n",
              "5                       2               89            Alive  \n",
              "6                       1               54            Alive  \n",
              "7                       1               14             Dead  \n",
              "8                      18               70            Alive  \n",
              "9                      12               92            Alive  \n",
              "10                      1               64             Dead  \n",
              "11                      3               92            Alive  \n",
              "12                      3               56            Alive  \n",
              "13                      7               38            Alive  \n",
              "14                     14               64            Alive  "
            ]
          },
          "execution_count": 28,
          "metadata": {},
          "output_type": "execute_result"
        }
      ],
      "source": [
        "import pandas as pd\n",
        "df = pd.read_csv('5DATA002W.2 Coursework Dataset(25012025v6.0).csv')\n",
        "df.head(15)\n"
      ]
    },
    {
      "cell_type": "code",
      "execution_count": 29,
      "metadata": {
        "colab": {
          "base_uri": "https://localhost:8080/"
        },
        "id": "7YYpWc9m5aTG",
        "outputId": "444e235e-db20-466f-971b-577c8a63e9c2"
      },
      "outputs": [
        {
          "name": "stdout",
          "output_type": "stream",
          "text": [
            "<class 'pandas.core.frame.DataFrame'>\n",
            "RangeIndex: 4024 entries, 0 to 4023\n",
            "Data columns (total 18 columns):\n",
            " #   Column                  Non-Null Count  Dtype  \n",
            "---  ------                  --------------  -----  \n",
            " 0   Patient_ID              4024 non-null   object \n",
            " 1   Month_of_Birth          4024 non-null   int64  \n",
            " 2   Age                     4015 non-null   float64\n",
            " 3   Sex                     4020 non-null   object \n",
            " 4   Occupation              43 non-null     object \n",
            " 5   T_Stage                 4024 non-null   object \n",
            " 6   N_Stage                 4024 non-null   object \n",
            " 7   6th_Stage               4024 non-null   object \n",
            " 8   Differentiated          4024 non-null   object \n",
            " 9   Grade                   4024 non-null   int64  \n",
            " 10  A_Stage                 4024 non-null   object \n",
            " 11  Tumor_Size              4021 non-null   float64\n",
            " 12  Estrogen_Status         4024 non-null   object \n",
            " 13  Progesterone_Status     4024 non-null   object \n",
            " 14  Regional_Node_Examined  4023 non-null   float64\n",
            " 15  Reginol_Node_Positive   4024 non-null   int64  \n",
            " 16  Survival_Months         4024 non-null   int64  \n",
            " 17  Mortality_Status        4024 non-null   object \n",
            "dtypes: float64(3), int64(4), object(11)\n",
            "memory usage: 566.0+ KB\n"
          ]
        }
      ],
      "source": [
        "df.info()"
      ]
    },
    {
      "cell_type": "code",
      "execution_count": 30,
      "metadata": {
        "colab": {
          "base_uri": "https://localhost:8080/",
          "height": 648
        },
        "id": "2fvnDWmM_4f_",
        "outputId": "a98ee124-a5f9-4c3a-ea0d-1061e030c9f5"
      },
      "outputs": [
        {
          "data": {
            "text/plain": [
              "Patient_ID                   0\n",
              "Month_of_Birth               0\n",
              "Age                          9\n",
              "Sex                          4\n",
              "Occupation                3981\n",
              "T_Stage                      0\n",
              "N_Stage                      0\n",
              "6th_Stage                    0\n",
              "Differentiated               0\n",
              "Grade                        0\n",
              "A_Stage                      0\n",
              "Tumor_Size                   3\n",
              "Estrogen_Status              0\n",
              "Progesterone_Status          0\n",
              "Regional_Node_Examined       1\n",
              "Reginol_Node_Positive        0\n",
              "Survival_Months              0\n",
              "Mortality_Status             0\n",
              "dtype: int64"
            ]
          },
          "execution_count": 30,
          "metadata": {},
          "output_type": "execute_result"
        }
      ],
      "source": [
        "df.isnull().sum()"
      ]
    },
    {
      "cell_type": "code",
      "execution_count": null,
      "metadata": {},
      "outputs": [],
      "source": [
        "df = pd.get_dummies(df, columns=[\n",
        "    'Sex', 'T_Stage', 'N_Stage', 'A_Stage',\n",
        "    'Estrogen_Status', 'Progesterone_Status', 'Differentiated', 'Grade'\n",
        "], drop_first=True)"
      ]
    },
    {
      "cell_type": "code",
      "execution_count": 31,
      "metadata": {
        "colab": {
          "base_uri": "https://localhost:8080/"
        },
        "id": "LD6xRFL5AHJy",
        "outputId": "509ac4ec-0574-4b81-b547-d9b0067d7f2b"
      },
      "outputs": [
        {
          "name": "stdout",
          "output_type": "stream",
          "text": [
            "Sex: ['Female' '1' nan]\n",
            "T_Stage: ['T1' 'T2' 'T3' 'T4']\n",
            "N_Stage: ['N1' 'N2' 'N3']\n",
            "A_Stage: ['Regional' 'Distant']\n",
            "Mortality_Status: ['Alive' 'Dead' 'ALIVE' 'DEAD' 'ALive' 'alive' 'dead']\n"
          ]
        }
      ],
      "source": [
        "for col in ['Sex', 'T_Stage', 'N_Stage', 'A_Stage', 'Mortality_Status']:\n",
        "    print(f\"{col}: {df[col].unique()}\")"
      ]
    },
    {
      "cell_type": "code",
      "execution_count": 32,
      "metadata": {
        "id": "fBpi-MzZEnO1"
      },
      "outputs": [],
      "source": [
        "# '1' to 'Male', keep 'Female' as is\n",
        "df['Sex'] = df['Sex'].replace({'1': 'Male'})\n",
        "# Fill missing values with the most common value\n",
        "df['Sex'] = df['Sex'].fillna(df['Sex'].mode()[0])"
      ]
    },
    {
      "cell_type": "code",
      "execution_count": 33,
      "metadata": {
        "colab": {
          "base_uri": "https://localhost:8080/"
        },
        "id": "a_cSLb9FE1Ef",
        "outputId": "9f8f0dbd-0c25-4538-e827-12b9a5245bc9"
      },
      "outputs": [
        {
          "name": "stdout",
          "output_type": "stream",
          "text": [
            "['Female' 'Male']\n"
          ]
        }
      ],
      "source": [
        "print(df['Sex'].unique())"
      ]
    },
    {
      "cell_type": "code",
      "execution_count": 34,
      "metadata": {
        "colab": {
          "base_uri": "https://localhost:8080/"
        },
        "id": "O02ePadrE4Mf",
        "outputId": "1f010aaf-11d6-4007-f67e-0cd885465feb"
      },
      "outputs": [
        {
          "name": "stdout",
          "output_type": "stream",
          "text": [
            "['Alive' 'Dead' 'ALIVE' 'DEAD' 'ALive' 'alive' 'dead']\n"
          ]
        }
      ],
      "source": [
        "print(df['Mortality_Status'].unique())"
      ]
    },
    {
      "cell_type": "code",
      "execution_count": 35,
      "metadata": {
        "colab": {
          "base_uri": "https://localhost:8080/"
        },
        "id": "81AkhLdRF7GS",
        "outputId": "31e73894-e5ea-4d08-c140-25b94dc2ebf8"
      },
      "outputs": [
        {
          "name": "stdout",
          "output_type": "stream",
          "text": [
            "['Alive' 'Dead']\n"
          ]
        }
      ],
      "source": [
        "# Standardize to lowercase, then capitalize first letter\n",
        "df['Mortality_Status'] = df['Mortality_Status'].str.lower().str.capitalize()\n",
        "print(df['Mortality_Status'].unique())"
      ]
    },
    {
      "cell_type": "code",
      "execution_count": 36,
      "metadata": {},
      "outputs": [],
      "source": [
        "df['Age'] = df['Age'].replace({'502': 52, '180': 80, '-50': 50})"
      ]
    },
    {
      "cell_type": "code",
      "execution_count": 37,
      "metadata": {},
      "outputs": [],
      "source": [
        "# Consider imputation based on similar patients:\n",
        "patient_groups = df.groupby(['T_Stage', 'N_Stage', '6th_Stage'])\n",
        "df['Tumor_Size'] = df.apply(lambda row: row['Tumor_Size'] if not pd.isna(row['Tumor_Size']) \n",
        "                          else patient_groups.get_group((row['T_Stage'], row['N_Stage'], row['6th_Stage']))['Tumor_Size'].median(), axis=1)"
      ]
    },
    {
      "cell_type": "code",
      "execution_count": 38,
      "metadata": {},
      "outputs": [],
      "source": [
        "df['tumor_node_ratio'] = df['Tumor_Size'] / (df['Regional_Node_Examined'] + 1)  # +1 to avoid division by zero\n",
        "df['positive_node_ratio'] = df['Reginol_Node_Positive'] / (df['Regional_Node_Examined'] + 1)"
      ]
    },
    {
      "cell_type": "code",
      "execution_count": 39,
      "metadata": {
        "colab": {
          "base_uri": "https://localhost:8080/"
        },
        "id": "5y2vcByEG5BT",
        "outputId": "846bb967-b654-4661-aa0f-378e20c49ec7"
      },
      "outputs": [
        {
          "name": "stdout",
          "output_type": "stream",
          "text": [
            "Patient_ID                   0\n",
            "Month_of_Birth               0\n",
            "Age                          9\n",
            "Sex                          0\n",
            "Occupation                3981\n",
            "T_Stage                      0\n",
            "N_Stage                      0\n",
            "6th_Stage                    0\n",
            "Differentiated               0\n",
            "Grade                        0\n",
            "A_Stage                      0\n",
            "Tumor_Size                   0\n",
            "Estrogen_Status              0\n",
            "Progesterone_Status          0\n",
            "Regional_Node_Examined       1\n",
            "Reginol_Node_Positive        0\n",
            "Survival_Months              0\n",
            "Mortality_Status             0\n",
            "tumor_node_ratio             1\n",
            "positive_node_ratio          1\n",
            "dtype: int64\n"
          ]
        }
      ],
      "source": [
        "print(df.isnull().sum())"
      ]
    },
    {
      "cell_type": "code",
      "execution_count": 40,
      "metadata": {
        "id": "NiT1WJXcWD-k"
      },
      "outputs": [],
      "source": [
        "df = df.drop('Occupation', axis=1)"
      ]
    },
    {
      "cell_type": "code",
      "execution_count": 41,
      "metadata": {
        "colab": {
          "base_uri": "https://localhost:8080/"
        },
        "id": "JFPR7-QYG_OB",
        "outputId": "61c77410-3187-44c5-8fe9-d4d4d6ec26be"
      },
      "outputs": [
        {
          "name": "stdout",
          "output_type": "stream",
          "text": [
            "Patient_ID                0\n",
            "Month_of_Birth            0\n",
            "Age                       0\n",
            "Sex                       0\n",
            "T_Stage                   0\n",
            "N_Stage                   0\n",
            "6th_Stage                 0\n",
            "Differentiated            0\n",
            "Grade                     0\n",
            "A_Stage                   0\n",
            "Tumor_Size                0\n",
            "Estrogen_Status           0\n",
            "Progesterone_Status       0\n",
            "Regional_Node_Examined    0\n",
            "Reginol_Node_Positive     0\n",
            "Survival_Months           0\n",
            "Mortality_Status          0\n",
            "tumor_node_ratio          1\n",
            "positive_node_ratio       1\n",
            "dtype: int64\n"
          ]
        }
      ],
      "source": [
        "# Impute missing Age with median\n",
        "df['Age'] = df['Age'].fillna(df['Age'].median())\n",
        "\n",
        "# Impute missing Tumor_Size with median\n",
        "df['Tumor_Size'] = df['Tumor_Size'].fillna(df['Tumor_Size'].median())\n",
        "\n",
        "# Impute missing Regional_Node_Examined with median\n",
        "df['Regional_Node_Examined'] = df['Regional_Node_Examined'].fillna(df['Regional_Node_Examined'].median())\n",
        "\n",
        "print(df.isnull().sum())"
      ]
    },
    {
      "cell_type": "markdown",
      "metadata": {
        "id": "QA1ktyj_O_mZ"
      },
      "source": [
        "categorical variables must be converted to numbers. Use one-hot encoding for variables with no natural order (nominal), and label encoding if there is an order (ordinal)."
      ]
    },
    {
      "cell_type": "code",
      "execution_count": 42,
      "metadata": {
        "id": "b_gpGjfQNOWk"
      },
      "outputs": [],
      "source": [
        "# One-hot encode all relevant categorical columns\n",
        "df = pd.get_dummies(df, columns=[\n",
        "    'Sex', 'T_Stage', 'N_Stage', 'A_Stage',\n",
        "    'Estrogen_Status', 'Progesterone_Status', 'Differentiated', 'Grade'\n",
        "], drop_first=True)"
      ]
    },
    {
      "cell_type": "code",
      "execution_count": 43,
      "metadata": {
        "id": "7Pimz-gWOyM1"
      },
      "outputs": [],
      "source": [
        "df['Mortality_Status'] = df['Mortality_Status'].map({'Alive': 0, 'Dead': 1})"
      ]
    },
    {
      "cell_type": "code",
      "execution_count": null,
      "metadata": {},
      "outputs": [
        {
          "data": {
            "image/png": "[encoded data removed]",
            "text/plain": [
              "<Figure size 1000x600 with 1 Axes>"
            ]
          },
          "metadata": {},
          "output_type": "display_data"
        },
        {
          "data": {
            "image/png": "[encoded data removed]",
            "text/plain": [
              "<Figure size 1200x1000 with 2 Axes>"
            ]
          },
          "metadata": {},
          "output_type": "display_data"
        }
      ],
      "source": [
        "import matplotlib.pyplot as plt\n",
        "import seaborn as sns\n",
        "import numpy as np\n",
        "\n",
        "plt.figure(figsize=(10, 6))\n",
        "sns.histplot(data=df, x='Age', hue='Mortality_Status', multiple='stack')\n",
        "plt.title('Age Distribution by Mortality Status')\n",
        "plt.show()\n",
        "\n",
        "\n",
        "numeric_cols = df.select_dtypes(include=[np.number]).columns.tolist()\n",
        "\n",
        "plt.figure(figsize=(12, 10))\n",
        "corr = df[numeric_cols].corr()\n",
        "sns.heatmap(corr, annot=False, cmap='coolwarm')\n",
        "plt.title('Feature Correlation Matrix')\n",
        "plt.tight_layout()\n",
        "plt.show()"
      ]
    },
    {
      "cell_type": "code",
      "execution_count": 48,
      "metadata": {},
      "outputs": [],
      "source": [
        "from sklearn.model_selection import train_test_split\n",
        "from sklearn.preprocessing import StandardScaler"
      ]
    },
    {
      "cell_type": "code",
      "execution_count": 49,
      "metadata": {},
      "outputs": [],
      "source": [
        "# Remove the Patient ID and Month of Birth columns before modeling\n",
        "X = df.drop(['Patient_ID', 'Month_of_Birth', 'Mortality_Status', 'Survival_Months'], axis=1)\n",
        "y = df['Mortality_Status']  "
      ]
    },
    {
      "cell_type": "code",
      "execution_count": 50,
      "metadata": {},
      "outputs": [],
      "source": [
        "X_train, X_test, y_train, y_test = train_test_split(X, y, test_size=0.25, random_state=42)"
      ]
    },
    {
      "cell_type": "code",
      "execution_count": 52,
      "metadata": {},
      "outputs": [],
      "source": [
        "# Drop or encode non-numeric columns before scaling\n",
        "X_train_numeric = X_train.select_dtypes(include=[np.number])\n",
        "X_test_numeric = X_test.select_dtypes(include=[np.number])\n",
        "\n",
        "scaler = StandardScaler()\n",
        "X_train_scaled = scaler.fit_transform(X_train_numeric)\n",
        "X_test_scaled = scaler.transform(X_test_numeric)"
      ]
    },
    {
      "cell_type": "code",
      "execution_count": 54,
      "metadata": {},
      "outputs": [
        {
          "name": "stdout",
          "output_type": "stream",
          "text": [
            "\n",
            "Logistic Regression Results:\n",
            "Accuracy: 0.8579\n",
            "Precision: 0.5000\n",
            "Recall: 0.0559\n",
            "F1 Score: 0.1006\n",
            "ROC AUC: 0.7277\n",
            "\n",
            "Classification Report:\n",
            "              precision    recall  f1-score   support\n",
            "\n",
            "           0       0.86      0.99      0.92       863\n",
            "           1       0.50      0.06      0.10       143\n",
            "\n",
            "    accuracy                           0.86      1006\n",
            "   macro avg       0.68      0.52      0.51      1006\n",
            "weighted avg       0.81      0.86      0.81      1006\n",
            "\n",
            "\n",
            "Random Forest Results:\n",
            "Accuracy: 0.8250\n",
            "Precision: 0.1887\n",
            "Recall: 0.0699\n",
            "F1 Score: 0.1020\n",
            "ROC AUC: 0.6825\n",
            "\n",
            "Classification Report:\n",
            "              precision    recall  f1-score   support\n",
            "\n",
            "           0       0.86      0.95      0.90       863\n",
            "           1       0.19      0.07      0.10       143\n",
            "\n",
            "    accuracy                           0.83      1006\n",
            "   macro avg       0.52      0.51      0.50      1006\n",
            "weighted avg       0.76      0.83      0.79      1006\n",
            "\n",
            "\n",
            "Gradient Boosting Results:\n",
            "Accuracy: 0.8479\n",
            "Precision: 0.3438\n",
            "Recall: 0.0769\n",
            "F1 Score: 0.1257\n",
            "ROC AUC: 0.6942\n",
            "\n",
            "Classification Report:\n",
            "              precision    recall  f1-score   support\n",
            "\n",
            "           0       0.86      0.98      0.92       863\n",
            "           1       0.34      0.08      0.13       143\n",
            "\n",
            "    accuracy                           0.85      1006\n",
            "   macro avg       0.60      0.53      0.52      1006\n",
            "weighted avg       0.79      0.85      0.80      1006\n",
            "\n",
            "\n",
            "SVM Results:\n",
            "Accuracy: 0.8588\n",
            "Precision: 0.5556\n",
            "Recall: 0.0350\n",
            "F1 Score: 0.0658\n",
            "ROC AUC: 0.5645\n",
            "\n",
            "Classification Report:\n",
            "              precision    recall  f1-score   support\n",
            "\n",
            "           0       0.86      1.00      0.92       863\n",
            "           1       0.56      0.03      0.07       143\n",
            "\n",
            "    accuracy                           0.86      1006\n",
            "   macro avg       0.71      0.52      0.49      1006\n",
            "weighted avg       0.82      0.86      0.80      1006\n",
            "\n"
          ]
        }
      ],
      "source": [
        "from sklearn.linear_model import LogisticRegression\n",
        "from sklearn.ensemble import RandomForestClassifier, GradientBoostingClassifier\n",
        "from sklearn.svm import SVC\n",
        "from sklearn.metrics import accuracy_score, precision_score, recall_score, f1_score, roc_auc_score, confusion_matrix\n",
        "from sklearn.metrics import classification_report\n",
        "\n",
        "# Initialize models\n",
        "models = {\n",
        "    'Logistic Regression': LogisticRegression(max_iter=1000, random_state=42),\n",
        "    'Random Forest': RandomForestClassifier(random_state=42),\n",
        "    'Gradient Boosting': GradientBoostingClassifier(random_state=42),\n",
        "    'SVM': SVC(probability=True, random_state=42)\n",
        "}\n",
        "\n",
        "# Dictionary to store results\n",
        "results = {}\n",
        "\n",
        "from sklearn.impute import SimpleImputer\n",
        "\n",
        "# Handle missing values in X_train_scaled and X_test_scaled\n",
        "imputer = SimpleImputer(strategy='mean')\n",
        "X_train_scaled = imputer.fit_transform(X_train_scaled)\n",
        "X_test_scaled = imputer.transform(X_test_scaled)\n",
        "\n",
        "# Train and evaluate each model\n",
        "for name, model in models.items():\n",
        "    # Train\n",
        "    model.fit(X_train_scaled, y_train)\n",
        "    \n",
        "    # Predict\n",
        "    y_pred = model.predict(X_test_scaled)\n",
        "    \n",
        "    # Evaluate\n",
        "    results[name] = {\n",
        "        'accuracy': accuracy_score(y_test, y_pred),\n",
        "        'precision': precision_score(y_test, y_pred),\n",
        "        'recall': recall_score(y_test, y_pred),\n",
        "        'f1': f1_score(y_test, y_pred),\n",
        "        'roc_auc': roc_auc_score(y_test, model.predict_proba(X_test_scaled)[:, 1])\n",
        "    }\n",
        "    \n",
        "    print(f\"\\n{name} Results:\")\n",
        "    print(f\"Accuracy: {results[name]['accuracy']:.4f}\")\n",
        "    print(f\"Precision: {results[name]['precision']:.4f}\")\n",
        "    print(f\"Recall: {results[name]['recall']:.4f}\")\n",
        "    print(f\"F1 Score: {results[name]['f1']:.4f}\")\n",
        "    print(f\"ROC AUC: {results[name]['roc_auc']:.4f}\")\n",
        "    \n",
        "    # Classification Report\n",
        "    print(\"\\nClassification Report:\")\n",
        "    print(classification_report(y_test, y_pred))"
      ]
    },
    {
      "cell_type": "code",
      "execution_count": 55,
      "metadata": {},
      "outputs": [
        {
          "data": {
            "image/png": "[encoded data removed]",
            "text/plain": [
              "<Figure size 1200x800 with 5 Axes>"
            ]
          },
          "metadata": {},
          "output_type": "display_data"
        }
      ],
      "source": [
        "# Visualize model performance\n",
        "plt.figure(figsize=(12, 8))\n",
        "metrics = ['accuracy', 'precision', 'recall', 'f1', 'roc_auc']\n",
        "model_names = list(results.keys())\n",
        "\n",
        "for i, metric in enumerate(metrics):\n",
        "    plt.subplot(2, 3, i+1)\n",
        "    values = [results[model][metric] for model in model_names]\n",
        "    sns.barplot(x=model_names, y=values)\n",
        "    plt.title(f'{metric.capitalize()} Comparison')\n",
        "    plt.xticks(rotation=45)\n",
        "    plt.ylim(0, 1)\n",
        "\n",
        "plt.tight_layout()\n",
        "plt.show()"
      ]
    }
  ],
  "metadata": {
    "colab": {
      "provenance": []
    },
    "kernelspec": {
      "display_name": "Python 3",
      "name": "python3"
    },
    "language_info": {
      "codemirror_mode": {
        "name": "ipython",
        "version": 3
      },
      "file_extension": ".py",
      "mimetype": "text/x-python",
      "name": "python",
      "nbconvert_exporter": "python",
      "pygments_lexer": "ipython3",
      "version": "3.11.7"
    }
  },
  "nbformat": 4,
  "nbformat_minor": 0
}
